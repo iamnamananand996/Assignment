{
 "cells": [
  {
   "cell_type": "code",
   "execution_count": 42,
   "metadata": {},
   "outputs": [],
   "source": [
    "import datetime\n",
    "from datetime import timedelta"
   ]
  },
  {
   "cell_type": "code",
   "execution_count": 59,
   "metadata": {},
   "outputs": [
    {
     "name": "stdout",
     "output_type": "stream",
     "text": [
      "31-12-2019\n",
      "01-01-2020 \n"
     ]
    }
   ],
   "source": [
    "data = input()\n",
    "data = data.strip()\n",
    "result = data.split('-')\n",
    "if len(result) == 1:\n",
    "    result = data.split('/')\n",
    "    \n",
    "    \n",
    "result = [int(i) for i in result]\n",
    "\n",
    "\n",
    "present_date = datetime.datetime(result[2],result[1],result[0]) \n",
    "current_date = present_date + timedelta(days=1)\n",
    "current_date_day = str(current_date.day)\n",
    "current_date_month = str(current_date.month)\n",
    "\n",
    "if len(str(current_date.day)) == 1:\n",
    "    current_date_day = '0'+str(current_date_day)\n",
    "if len(current_date_month) == 1:\n",
    "       current_date_month = '0'+str(current_date_month)\n",
    "        \n",
    "        \n",
    "res = [current_date_day,current_date_month,current_date.year]\n",
    "print(('-'.join(str(x) for x in res)) + ' ')"
   ]
  },
  {
   "cell_type": "code",
   "execution_count": null,
   "metadata": {},
   "outputs": [],
   "source": []
  }
 ],
 "metadata": {
  "kernelspec": {
   "display_name": "Python 3",
   "language": "python",
   "name": "python3"
  },
  "language_info": {
   "codemirror_mode": {
    "name": "ipython",
    "version": 3
   },
   "file_extension": ".py",
   "mimetype": "text/x-python",
   "name": "python",
   "nbconvert_exporter": "python",
   "pygments_lexer": "ipython3",
   "version": "3.6.5"
  }
 },
 "nbformat": 4,
 "nbformat_minor": 2
}
