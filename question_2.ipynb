{
 "cells": [
  {
   "cell_type": "code",
   "execution_count": 1,
   "metadata": {},
   "outputs": [],
   "source": [
    "data =  [{'model': 'auth_api.user', 'pk': 199, 'fields': {'password':\n",
    "'pbkdf2_sha256$120000$ZWsTOyx6pAdj$o2YzlAyLus5dCXKc6wyYTSQcTFU8oNRP54kwE6lOfys=',\n",
    "'last_login': None, 'is_superuser': False, 'username': 'price', 'first_name': '', 'last_name': '', 'email':\n",
    "'prfe@price.com', 'is_staff': False, 'is_active': True, 'date_joined': '2019-05-09T07:00:47.721Z',\n",
    "'user_type': 'Admin', 'company_name': None, 'phone_num': None, 'Des': None, 'owner': None, 'plan':\n",
    "None, 'groups': [], 'user_permissions': []}},\n",
    "{'model': 'auth_api.user', 'pk': 200, 'fields': {'password':\n",
    "'pbkdf2_sha256$120000$ZWsTOyx6pAdj$o2YzlAyLus5dCXKc6wyYTSQcTFU8oNRP54kwE6lOfys=',\n",
    "'last_login': None, 'is_superuser': False, 'username': 'price', 'first_name': '', 'last_name': '', 'email':\n",
    "'prfe@price.com', 'is_staff': False, 'is_active': True, 'date_joined': '2019-05-09T07:00:47.721Z',\n",
    "'user_type': 'Admin', 'company_name': None, 'phone_num': None, 'Des': None, 'owner': None, 'plan':\n",
    "None, 'groups': [], 'user_permissions': []}}, {'model': 'auth_api.user', 'pk': 199, 'fields': {'password':\n",
    "'pbkdf2_sha256$120000$ZWsTOyx6pAdj$o2YzlAyLus5dCXKc6wyYTSQcTFU8oNRP54kwE6lOfys=',\n",
    "'last_login': None, 'is_superuser': False, 'username': 'price', 'first_name': '', 'last_name': '', 'email':\n",
    "'prfe@price.com', 'is_staff': False, 'is_active': True, 'date_joined': '2019-05-09T07:00:47.721Z',\n",
    "'user_type': 'Admin', 'company_name': None, 'phone_num': None, 'Des': None, 'owner': None, 'plan':\n",
    "None, 'groups': [], 'user_permissions': []}},\n",
    "         {'model': 'auth_api.user', 'pk': 201, 'fields': {'password':\n",
    "'pbkdf2_sha256$120000$ZWsTOyx6pAdj$o2YzlAyLus5dCXKc6wyYTSQcTFU8oNRP54kwE6lOfys=',\n",
    "'last_login': None, 'is_superuser': False, 'username': 'price', 'first_name': '', 'last_name': '', 'email':\n",
    "'prfe@price.com', 'is_staff': False, 'is_active': True, 'date_joined': None, 'Des': None, 'owner': None,\n",
    "'plan': None, 'groups': [], 'user_permissions': []}}]"
   ]
  },
  {
   "cell_type": "code",
   "execution_count": 2,
   "metadata": {},
   "outputs": [
    {
     "data": {
      "text/plain": [
       "4"
      ]
     },
     "execution_count": 2,
     "metadata": {},
     "output_type": "execute_result"
    }
   ],
   "source": [
    "len(data)"
   ]
  },
  {
   "cell_type": "code",
   "execution_count": 3,
   "metadata": {},
   "outputs": [
    {
     "name": "stdout",
     "output_type": "stream",
     "text": [
      "dict_keys(['model', 'pk', 'fields'])\n",
      "auth_api.user\n",
      "199\n",
      "{'password': 'pbkdf2_sha256$120000$ZWsTOyx6pAdj$o2YzlAyLus5dCXKc6wyYTSQcTFU8oNRP54kwE6lOfys=', 'last_login': None, 'is_superuser': False, 'username': 'price', 'first_name': '', 'last_name': '', 'email': 'prfe@price.com', 'is_staff': False, 'is_active': True, 'date_joined': '2019-05-09T07:00:47.721Z', 'user_type': 'Admin', 'company_name': None, 'phone_num': None, 'Des': None, 'owner': None, 'plan': None, 'groups': [], 'user_permissions': []}\n",
      "\n",
      "dict_keys(['password', 'last_login', 'is_superuser', 'username', 'first_name', 'last_name', 'email', 'is_staff', 'is_active', 'date_joined', 'user_type', 'company_name', 'phone_num', 'Des', 'owner', 'plan', 'groups', 'user_permissions'])\n"
     ]
    }
   ],
   "source": [
    "\n",
    "print(data[0].keys())\n",
    "print(data[0]['model'])\n",
    "print(data[0]['pk'])\n",
    "print(data[0]['fields'])\n",
    "print()\n",
    "print(data[0]['fields'].keys())"
   ]
  },
  {
   "cell_type": "code",
   "execution_count": 4,
   "metadata": {},
   "outputs": [
    {
     "data": {
      "text/plain": [
       "[{'model': 'auth_api.user',\n",
       "  'pk': 199,\n",
       "  'fields': {'password': 'pbkdf2_sha256$120000$ZWsTOyx6pAdj$o2YzlAyLus5dCXKc6wyYTSQcTFU8oNRP54kwE6lOfys=',\n",
       "   'last_login': None,\n",
       "   'is_superuser': False,\n",
       "   'username': 'price',\n",
       "   'first_name': '',\n",
       "   'last_name': '',\n",
       "   'email': 'prfe@price.com',\n",
       "   'is_staff': False,\n",
       "   'is_active': True,\n",
       "   'date_joined': '2019-05-09T07:00:47.721Z',\n",
       "   'user_type': 'Admin',\n",
       "   'company_name': None,\n",
       "   'phone_num': None,\n",
       "   'Des': None,\n",
       "   'owner': None,\n",
       "   'plan': None,\n",
       "   'groups': [],\n",
       "   'user_permissions': []}},\n",
       " {'model': 'auth_api.user',\n",
       "  'pk': 200,\n",
       "  'fields': {'password': 'pbkdf2_sha256$120000$ZWsTOyx6pAdj$o2YzlAyLus5dCXKc6wyYTSQcTFU8oNRP54kwE6lOfys=',\n",
       "   'last_login': None,\n",
       "   'is_superuser': False,\n",
       "   'username': 'price',\n",
       "   'first_name': '',\n",
       "   'last_name': '',\n",
       "   'email': 'prfe@price.com',\n",
       "   'is_staff': False,\n",
       "   'is_active': True,\n",
       "   'date_joined': '2019-05-09T07:00:47.721Z',\n",
       "   'user_type': 'Admin',\n",
       "   'company_name': None,\n",
       "   'phone_num': None,\n",
       "   'Des': None,\n",
       "   'owner': None,\n",
       "   'plan': None,\n",
       "   'groups': [],\n",
       "   'user_permissions': []}},\n",
       " {'model': 'auth_api.user',\n",
       "  'pk': 201,\n",
       "  'fields': {'password': 'pbkdf2_sha256$120000$ZWsTOyx6pAdj$o2YzlAyLus5dCXKc6wyYTSQcTFU8oNRP54kwE6lOfys=',\n",
       "   'last_login': None,\n",
       "   'is_superuser': False,\n",
       "   'username': 'price',\n",
       "   'first_name': '',\n",
       "   'last_name': '',\n",
       "   'email': 'prfe@price.com',\n",
       "   'is_staff': False,\n",
       "   'is_active': True,\n",
       "   'date_joined': None,\n",
       "   'Des': None,\n",
       "   'owner': None,\n",
       "   'plan': None,\n",
       "   'groups': [],\n",
       "   'user_permissions': []}}]"
      ]
     },
     "execution_count": 4,
     "metadata": {},
     "output_type": "execute_result"
    }
   ],
   "source": [
    "pk = []\n",
    "res = []\n",
    "for i in data:\n",
    "    if i['pk'] not in pk:\n",
    "        pk.append(i['pk'])\n",
    "        res.append(i)\n",
    "res"
   ]
  },
  {
   "cell_type": "code",
   "execution_count": null,
   "metadata": {},
   "outputs": [],
   "source": []
  }
 ],
 "metadata": {
  "kernelspec": {
   "display_name": "Python 3",
   "language": "python",
   "name": "python3"
  },
  "language_info": {
   "codemirror_mode": {
    "name": "ipython",
    "version": 3
   },
   "file_extension": ".py",
   "mimetype": "text/x-python",
   "name": "python",
   "nbconvert_exporter": "python",
   "pygments_lexer": "ipython3",
   "version": "3.6.5"
  }
 },
 "nbformat": 4,
 "nbformat_minor": 2
}
